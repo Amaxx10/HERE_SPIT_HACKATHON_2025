{
 "cells": [
  {
   "cell_type": "code",
   "execution_count": 1,
   "id": "c9d645fe-436c-42d2-99df-0accf79ae587",
   "metadata": {},
   "outputs": [],
   "source": [
    "import json\n",
    "\n",
    "# Load YOLO detection data\n",
    "with open(\"data.json\", \"r\", encoding=\"utf-8\") as f:\n",
    "    detections = json.load(f)"
   ]
  },
  {
   "cell_type": "code",
   "execution_count": 12,
   "id": "9c3656be-0a3a-4c2f-8d66-8401a0272d27",
   "metadata": {},
   "outputs": [
    {
     "name": "stdout",
     "output_type": "stream",
     "text": [
      "GeoJSON with 1 features saved to yolo_geojson_output.geojson.\n"
     ]
    }
   ],
   "source": [
    "# Build GeoJSON structure\n",
    "geojson_features = []\n",
    "for detection in range(1):\n",
    "    lat = 330.23086896213147\n",
    "    lon = 1357.690623544438\n",
    "    obj = \"blue sign\"\n",
    "# Skip invalid coordinates or missing object\n",
    "    if lat is None or lon is None or not obj:\n",
    "        continue\n",
    "\n",
    "    feature = {\n",
    "        \"type\": \"Feature\",\n",
    "        \"geometry\": {\n",
    "            \"type\": \"Point\",\n",
    "            \"coordinates\": [lon, lat]\n",
    "        },\n",
    "        \"properties\": {\n",
    "            \"object\": f\" {{{obj}}}\"\n",
    "        }\n",
    "    }\n",
    "    geojson_features.append(feature)\n",
    "\n",
    "geojson_output = {\n",
    "    \"type\": \"FeatureCollection\",\n",
    "    \"features\": geojson_features\n",
    "}\n",
    "\n",
    "# Save to file\n",
    "with open(\"yolo_geojson_output.geojson\", \"w\", encoding=\"utf-8\") as f:\n",
    "    json.dump(geojson_output, f, ensure_ascii=False, indent=2)\n",
    "\n",
    "print(f\"GeoJSON with {len(geojson_features)} features saved to yolo_geojson_output.geojson.\")"
   ]
  }
 ],
 "metadata": {
  "kernelspec": {
   "display_name": "Python 3 (ipykernel)",
   "language": "python",
   "name": "python3"
  },
  "language_info": {
   "codemirror_mode": {
    "name": "ipython",
    "version": 3
   },
   "file_extension": ".py",
   "mimetype": "text/x-python",
   "name": "python",
   "nbconvert_exporter": "python",
   "pygments_lexer": "ipython3",
   "version": "3.11.0"
  }
 },
 "nbformat": 4,
 "nbformat_minor": 5
}
